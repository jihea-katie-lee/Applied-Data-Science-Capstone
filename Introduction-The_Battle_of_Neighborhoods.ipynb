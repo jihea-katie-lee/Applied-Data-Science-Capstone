{
    "cells": [
        {
            "cell_type": "markdown",
            "metadata": {
                "collapsed": true
            },
            "source": "## Introduction"
        },
        {
            "cell_type": "markdown",
            "metadata": {},
            "source": "Opening a business can be exciting, but it should be determined carefully to flourish. There are some categories that needs to be taken account of. Most but not the least, you should think carefully of the followings:\n    1. Where are you located to open a business?\n    2. Which type of business do you want to open?\n    \nThe major purpose of this project, is to propose which type of business would be beneficial to open for a client in a specific area, Toronto. Also, we will locate the similar business in corresponding neighborhoods to determine whether people would stop by near this location."
        }
    ],
    "metadata": {
        "kernelspec": {
            "display_name": "Python 3.6",
            "language": "python",
            "name": "python3"
        },
        "language_info": {
            "codemirror_mode": {
                "name": "ipython",
                "version": 3
            },
            "file_extension": ".py",
            "mimetype": "text/x-python",
            "name": "python",
            "nbconvert_exporter": "python",
            "pygments_lexer": "ipython3",
            "version": "3.6.9"
        }
    },
    "nbformat": 4,
    "nbformat_minor": 1
}
