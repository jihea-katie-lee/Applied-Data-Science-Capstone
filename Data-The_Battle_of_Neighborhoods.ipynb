{
    "cells": [
        {
            "cell_type": "markdown",
            "metadata": {
                "collapsed": true
            },
            "source": "## Data"
        },
        {
            "cell_type": "markdown",
            "metadata": {},
            "source": "To find a best a best type of business and its location, we will use the following resources of information:\n\nhttps://en.wikipedia.org/wiki/List_of_postal_codes_of_Canada:_M\n\nIn order to segment the neighborhoods and explore them, we will need the data of the neighborhoods that exist in near Downtown Toronto as well as their latitude and logitude coordinates. We will utilize the Foursquare API where it has a database of millions of places to explore the neighborhoods and segment each category into desired search.\n\nAdditionally, we will learn whether the behavior or the trends are similar in other big cities such as New York City and the link to the dataset is following: https://geo.nyu.edu/catalog/nyu_2451_34572"
        }
    ],
    "metadata": {
        "kernelspec": {
            "display_name": "Python 3.6",
            "language": "python",
            "name": "python3"
        },
        "language_info": {
            "codemirror_mode": {
                "name": "ipython",
                "version": 3
            },
            "file_extension": ".py",
            "mimetype": "text/x-python",
            "name": "python",
            "nbconvert_exporter": "python",
            "pygments_lexer": "ipython3",
            "version": "3.6.9"
        }
    },
    "nbformat": 4,
    "nbformat_minor": 1
}